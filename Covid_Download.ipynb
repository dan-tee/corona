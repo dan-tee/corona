{
 "cells": [
  {
   "cell_type": "markdown",
   "metadata": {},
   "source": [
    "## Corona cases and deaths for Germany\n",
    "\n",
    "data from https://npgeo-corona-npgeo-de.hub.arcgis.com/datasets/dd4580c810204019a7b8eb3e0b329dd6_0"
   ]
  },
  {
   "cell_type": "code",
   "execution_count": 9,
   "metadata": {},
   "outputs": [],
   "source": [
    "%matplotlib inline\n",
    "import pandas as pd\n",
    "import numpy as np\n",
    "import matplotlib.pyplot as plt\n",
    "import seaborn as sns\n",
    "from datetime import datetime, timedelta\n",
    "import requests\n",
    "from os import walk\n",
    "import dateutil.parser"
   ]
  },
  {
   "cell_type": "code",
   "execution_count": 10,
   "metadata": {},
   "outputs": [
    {
     "name": "stdout",
     "output_type": "stream",
     "text": [
      "..........................."
     ]
    },
    {
     "data": {
      "text/plain": [
       "Timestamp('2020-05-08 00:00:00')"
      ]
     },
     "execution_count": 10,
     "metadata": {},
     "output_type": "execute_result"
    }
   ],
   "source": [
    "def load_from_api():\n",
    "    more_results = True\n",
    "    dfs = []\n",
    "    i = 0\n",
    "    n_records = 5000\n",
    "    while more_results:\n",
    "        url = 'https://services7.arcgis.com/mOBPykOjAyBO2ZKk/arcgis/rest/services/RKI_COVID19/FeatureServer/0/query?'\\\n",
    "                'where=1%3D1'\\\n",
    "                '&outFields=*'\\\n",
    "                '&f=json'\\\n",
    "                f'&resultRecordCount={n_records}'\\\n",
    "                f'&resultOffset={i*n_records}'\n",
    "        r = requests.get(url)\n",
    "        payload = r.json()\n",
    "        attributes = [record['attributes'] for record in payload['features']]\n",
    "        df = pd.json_normalize(attributes)\n",
    "        more_results = ('exceededTransferLimit' in payload)\n",
    "        if more_results and df.shape[0] < n_records:\n",
    "            raise Exception('Fewer records returned than expected.')\n",
    "        i += 1\n",
    "        print('.',end='')\n",
    "        dfs.append(df)\n",
    "    df_res = pd.concat(dfs)\n",
    "    return df_res\n",
    "\n",
    "def file_of_today_exists():\n",
    "    (_, _, filenames) = next(walk('./RKI data'))\n",
    "    for name in filenames:\n",
    "        if name.startswith('RKI_COVID19') and \\\n",
    "                dateutil.parser.parse(name[12:22]).date() == datetime.now().date():\n",
    "            return True, name\n",
    "    return False, None\n",
    "\n",
    "def load_RKI(once_per_day=True):\n",
    "    exists, path = file_of_today_exists()\n",
    "    if exists and once_per_day:\n",
    "        path = './RKI data/' + path\n",
    "        print(f'read file from path: {path}')\n",
    "        df_res = pd.read_csv(path)\n",
    "    else:\n",
    "        df_res = load_from_api()\n",
    "        df_res['Meldedatum'] = pd.to_datetime(df_res['Meldedatum'], unit='ms')\n",
    "        df_res['Refdatum'] = pd.to_datetime(df_res['Refdatum'], unit='ms')\n",
    "        df_res.to_csv('./RKI data/RKI_COVID19_{:%Y-%m-%d_%H}h.csv'.format(datetime.now()))\n",
    "    return df_res\n",
    "\n",
    "df_res = load_RKI()\n",
    "df_res['Meldedatum'].max()"
   ]
  },
  {
   "cell_type": "code",
   "execution_count": 8,
   "metadata": {},
   "outputs": [],
   "source": [
    "#load_RKI(False)"
   ]
  },
  {
   "cell_type": "code",
   "execution_count": null,
   "metadata": {},
   "outputs": [],
   "source": []
  },
  {
   "cell_type": "code",
   "execution_count": null,
   "metadata": {},
   "outputs": [],
   "source": []
  },
  {
   "cell_type": "code",
   "execution_count": null,
   "metadata": {},
   "outputs": [],
   "source": []
  },
  {
   "cell_type": "code",
   "execution_count": null,
   "metadata": {},
   "outputs": [],
   "source": []
  }
 ],
 "metadata": {
  "kernelspec": {
   "display_name": "Python 3",
   "language": "python",
   "name": "python3"
  },
  "language_info": {
   "codemirror_mode": {
    "name": "ipython",
    "version": 3
   },
   "file_extension": ".py",
   "mimetype": "text/x-python",
   "name": "python",
   "nbconvert_exporter": "python",
   "pygments_lexer": "ipython3",
   "version": "3.6.5"
  }
 },
 "nbformat": 4,
 "nbformat_minor": 4
}
