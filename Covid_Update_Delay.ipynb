{
 "cells": [
  {
   "cell_type": "markdown",
   "metadata": {},
   "source": [
    "## Corona cases and deaths for Germany\n",
    "\n",
    "data from https://npgeo-corona-npgeo-de.hub.arcgis.com/datasets/dd4580c810204019a7b8eb3e0b329dd6_0"
   ]
  },
  {
   "cell_type": "code",
   "execution_count": 167,
   "metadata": {},
   "outputs": [],
   "source": [
    "%matplotlib inline\n",
    "import pandas as pd\n",
    "import numpy as np\n",
    "import matplotlib.pyplot as plt\n",
    "import seaborn as sns\n",
    "from datetime import datetime"
   ]
  },
  {
   "cell_type": "code",
   "execution_count": 180,
   "metadata": {},
   "outputs": [
    {
     "data": {
      "text/html": [
       "<div>\n",
       "<style scoped>\n",
       "    .dataframe tbody tr th:only-of-type {\n",
       "        vertical-align: middle;\n",
       "    }\n",
       "\n",
       "    .dataframe tbody tr th {\n",
       "        vertical-align: top;\n",
       "    }\n",
       "\n",
       "    .dataframe thead th {\n",
       "        text-align: right;\n",
       "    }\n",
       "</style>\n",
       "<table border=\"1\" class=\"dataframe\">\n",
       "  <thead>\n",
       "    <tr style=\"text-align: right;\">\n",
       "      <th></th>\n",
       "      <th>IdBundesland</th>\n",
       "      <th>Bundesland</th>\n",
       "      <th>Landkreis</th>\n",
       "      <th>Altersgruppe</th>\n",
       "      <th>Geschlecht</th>\n",
       "      <th>AnzahlFall</th>\n",
       "      <th>AnzahlTodesfall</th>\n",
       "      <th>ObjectId</th>\n",
       "      <th>Meldedatum</th>\n",
       "      <th>IdLandkreis</th>\n",
       "      <th>Datenstand</th>\n",
       "      <th>NeuerFall</th>\n",
       "      <th>NeuerTodesfall</th>\n",
       "    </tr>\n",
       "  </thead>\n",
       "  <tbody>\n",
       "    <tr>\n",
       "      <th>0</th>\n",
       "      <td>3</td>\n",
       "      <td>Niedersachsen</td>\n",
       "      <td>LK Hameln-Pyrmont</td>\n",
       "      <td>A15-A34</td>\n",
       "      <td>M</td>\n",
       "      <td>3</td>\n",
       "      <td>0</td>\n",
       "      <td>221614</td>\n",
       "      <td>2020-03-16</td>\n",
       "      <td>3252</td>\n",
       "      <td>2020-03-25</td>\n",
       "      <td>0</td>\n",
       "      <td>0</td>\n",
       "    </tr>\n",
       "    <tr>\n",
       "      <th>1</th>\n",
       "      <td>3</td>\n",
       "      <td>Niedersachsen</td>\n",
       "      <td>LK Hameln-Pyrmont</td>\n",
       "      <td>A15-A34</td>\n",
       "      <td>M</td>\n",
       "      <td>1</td>\n",
       "      <td>0</td>\n",
       "      <td>221615</td>\n",
       "      <td>2020-03-18</td>\n",
       "      <td>3252</td>\n",
       "      <td>2020-03-25</td>\n",
       "      <td>0</td>\n",
       "      <td>0</td>\n",
       "    </tr>\n",
       "    <tr>\n",
       "      <th>2</th>\n",
       "      <td>3</td>\n",
       "      <td>Niedersachsen</td>\n",
       "      <td>LK Hameln-Pyrmont</td>\n",
       "      <td>A15-A34</td>\n",
       "      <td>W</td>\n",
       "      <td>1</td>\n",
       "      <td>0</td>\n",
       "      <td>221616</td>\n",
       "      <td>2020-03-20</td>\n",
       "      <td>3252</td>\n",
       "      <td>2020-03-25</td>\n",
       "      <td>0</td>\n",
       "      <td>0</td>\n",
       "    </tr>\n",
       "  </tbody>\n",
       "</table>\n",
       "</div>"
      ],
      "text/plain": [
       "   IdBundesland     Bundesland          Landkreis Altersgruppe Geschlecht  \\\n",
       "0             3  Niedersachsen  LK Hameln-Pyrmont      A15-A34          M   \n",
       "1             3  Niedersachsen  LK Hameln-Pyrmont      A15-A34          M   \n",
       "2             3  Niedersachsen  LK Hameln-Pyrmont      A15-A34          W   \n",
       "\n",
       "   AnzahlFall  AnzahlTodesfall  ObjectId Meldedatum  IdLandkreis Datenstand  \\\n",
       "0           3                0    221614 2020-03-16         3252 2020-03-25   \n",
       "1           1                0    221615 2020-03-18         3252 2020-03-25   \n",
       "2           1                0    221616 2020-03-20         3252 2020-03-25   \n",
       "\n",
       "   NeuerFall  NeuerTodesfall  \n",
       "0          0               0  \n",
       "1          0               0  \n",
       "2          0               0  "
      ]
     },
     "execution_count": 180,
     "metadata": {},
     "output_type": "execute_result"
    }
   ],
   "source": [
    "start_date = datetime(2020, 3, 1)\n",
    "end_date = datetime(2020, 3, 24)\n",
    "\n",
    "raw_dfs = [\n",
    "    pd.read_csv('RKI_COVID19_2020-03-21_10h.csv', parse_dates=['Meldedatum']),\n",
    "    pd.read_csv('RKI_COVID19_2020-03-23_16h.csv', parse_dates=['Meldedatum', 'Datenstand']),\n",
    "    pd.read_csv('RKI_COVID19_2020-03-24_10h.csv', parse_dates=['Meldedatum', 'Datenstand']),\n",
    "    pd.read_csv('RKI_COVID19_2020-03-25_22h.csv', parse_dates=['Meldedatum', 'Datenstand'])\n",
    "]\n",
    "raw_dfs[0]['Datenstand'] = datetime(2020, 3, 21)\n",
    "\n",
    "dfs = []\n",
    "for df_raw in raw_dfs:\n",
    "    df = df_raw.copy()\n",
    "    df['Meldedatum'] = df['Meldedatum'].dt.tz_localize(None)\n",
    "    df['Datenstand'] = df['Datenstand'].dt.tz_localize(None)\n",
    "    df['IdLandkreis'] = df['IdLandkreis'].replace('0-1', 0).astype(int)\n",
    "    df = df.query('Meldedatum > @start_date' \n",
    "                  ' and Meldedatum <= @end_date')\n",
    "    dfs.append(df)\n",
    "df[:3]"
   ]
  },
  {
   "cell_type": "code",
   "execution_count": 181,
   "metadata": {},
   "outputs": [],
   "source": [
    "merge_cols = ['IdBundesland', 'Bundesland', 'Landkreis', 'Altersgruppe', 'Geschlecht', 'AnzahlFall', 'AnzahlTodesfall', 'Meldedatum', 'IdLandkreis']\n",
    "df_merge = dfs[0]\n",
    "for df in dfs[1:]:\n",
    "    df_merge = df_merge.merge(df, how='right', on=merge_cols)\n",
    "    for col in ['Datenstand', 'ObjectId']:\n",
    "        df_merge[col] = df_merge[[col + '_x', col + '_y']].min(axis=1)\n",
    "        del df_merge[col + '_x']\n",
    "        del df_merge[col + '_y']"
   ]
  },
  {
   "cell_type": "code",
   "execution_count": 182,
   "metadata": {},
   "outputs": [
    {
     "data": {
      "text/plain": [
       "<matplotlib.axes._subplots.AxesSubplot at 0x12e984828>"
      ]
     },
     "execution_count": 182,
     "metadata": {},
     "output_type": "execute_result"
    },
    {
     "data": {
      "image/png": "[encoded data removed]",
      "text/plain": [
       "<Figure size 432x288 with 1 Axes>"
      ]
     },
     "metadata": {},
     "output_type": "display_data"
    }
   ],
   "source": [
    "df_merge[df_merge['Datenstand'] == datetime(2020, 3, 25)]['Meldedatum'].hist()"
   ]
  },
  {
   "cell_type": "code",
   "execution_count": 183,
   "metadata": {},
   "outputs": [
    {
     "data": {
      "text/plain": [
       "<matplotlib.axes._subplots.AxesSubplot at 0x12ea59ac8>"
      ]
     },
     "execution_count": 183,
     "metadata": {},
     "output_type": "execute_result"
    },
    {
     "data": {
      "image/png": "[encoded data removed]",
      "text/plain": [
       "<Figure size 432x288 with 1 Axes>"
      ]
     },
     "metadata": {},
     "output_type": "display_data"
    }
   ],
   "source": [
    "df_merge[df_merge['Datenstand'] == datetime(2020, 3, 24)]['Meldedatum'].hist()"
   ]
  },
  {
   "cell_type": "code",
   "execution_count": 184,
   "metadata": {},
   "outputs": [
    {
     "data": {
      "text/plain": [
       "<matplotlib.axes._subplots.AxesSubplot at 0x12e658358>"
      ]
     },
     "execution_count": 184,
     "metadata": {},
     "output_type": "execute_result"
    },
    {
     "data": {
      "image/png": "[encoded data removed]",
      "text/plain": [
       "<Figure size 432x288 with 1 Axes>"
      ]
     },
     "metadata": {},
     "output_type": "display_data"
    }
   ],
   "source": [
    "df_merge[df_merge['Datenstand'] == datetime(2020, 3, 23)]['Meldedatum'].hist()"
   ]
  },
  {
   "cell_type": "code",
   "execution_count": null,
   "metadata": {},
   "outputs": [],
   "source": []
  }
 ],
 "metadata": {
  "kernelspec": {
   "display_name": "Python 3",
   "language": "python",
   "name": "python3"
  },
  "language_info": {
   "codemirror_mode": {
    "name": "ipython",
    "version": 3
   },
   "file_extension": ".py",
   "mimetype": "text/x-python",
   "name": "python",
   "nbconvert_exporter": "python",
   "pygments_lexer": "ipython3",
   "version": "3.6.5"
  }
 },
 "nbformat": 4,
 "nbformat_minor": 4
}
